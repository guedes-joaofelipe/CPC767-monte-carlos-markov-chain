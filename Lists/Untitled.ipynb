{
 "cells": [
  {
   "cell_type": "code",
   "execution_count": 14,
   "metadata": {},
   "outputs": [],
   "source": [
    "import numpy as np\n",
    "import random\n",
    "import seaborn as sns\n",
    "import matplotlib.pyplot as plt"
   ]
  },
  {
   "cell_type": "code",
   "execution_count": 55,
   "metadata": {},
   "outputs": [
    {
     "data": {
      "text/plain": [
       "1"
      ]
     },
     "execution_count": 55,
     "metadata": {},
     "output_type": "execute_result"
    }
   ],
   "source": []
  },
  {
   "cell_type": "code",
   "execution_count": 153,
   "metadata": {},
   "outputs": [
    {
     "data": {
      "text/plain": [
       "array([0.0006, 0.0007, 0.0006, ..., 0.0005, 0.0006, 0.0005])"
      ]
     },
     "execution_count": 153,
     "metadata": {},
     "output_type": "execute_result"
    }
   ],
   "source": [
    "def run_realization (nodes, p, epochs, initial_node = None):\n",
    "    \n",
    "    if initial_node == None:\n",
    "        initial_node = random.randint(0, nodes-1)\n",
    "    \n",
    "    nodes = np.zeros(nodes)\n",
    "    current_position = initial_node\n",
    "    position_history = [current_position]\n",
    "    \n",
    "    nodes[current_position] += 1\n",
    "    \n",
    "    for epoch in np.arange(epochs-1):\n",
    "        \n",
    "        \n",
    "        if current_position == 0:\n",
    "            current_position += 1\n",
    "        elif current_position == nodes.shape[0]-1:\n",
    "            current_position -= 1           \n",
    "        elif random.uniform(0, 1) <= p: \n",
    "            current_position += 1\n",
    "        else:\n",
    "            current_position -= 1\n",
    "    \n",
    "        nodes[current_position] += 1\n",
    "        position_history.append(current_position)\n",
    "        \n",
    "    return np.array(position_history)\n",
    "\n",
    "hist = run_realization(nodes=8, p=0.5, initial_node=None, epochs=10000)\n",
    "hist"
   ]
  },
  {
   "cell_type": "code",
   "execution_count": 155,
   "metadata": {},
   "outputs": [
    {
     "name": "stderr",
     "output_type": "stream",
     "text": [
      "C:\\Anaconda\\lib\\site-packages\\seaborn\\distributions.py:218: MatplotlibDeprecationWarning: \n",
      "The 'normed' kwarg was deprecated in Matplotlib 2.1 and will be removed in 3.1. Use 'density' instead.\n",
      "  color=hist_color, **hist_kws)\n"
     ]
    },
    {
     "data": {
      "image/png": "[encoded data removed]",
      "text/plain": [
       "<Figure size 576x576 with 1 Axes>"
      ]
     },
     "metadata": {
      "needs_background": "light"
     },
     "output_type": "display_data"
    }
   ],
   "source": [
    "def plot_hist(nodes, p, initial_node, epochs):\n",
    "\n",
    "    fig, ax = plt.subplots(figsize=(8,8))\n",
    "    hist = run_realization(nodes=nodes, p=p, initial_node=initial_node, epochs=epochs)\n",
    "    sns.distplot(hist, norm_hist=False, ax=ax, \n",
    "                 #kde=False, hist_kws=dict(alpha=.9),\n",
    "                 color=\"purple\")\n",
    "    ax.hist(hist, rwidth=.9, bins=10)\n",
    "    ax.grid(True, color='lightgray')\n",
    "    ax.set_xlabel(\"Position\"), ax.set_ylabel(\"Frequency\")\n",
    "\n",
    "plot_hist(nodes=100, p=.5, initial_node=None, epochs=100000)"
   ]
  },
  {
   "cell_type": "markdown",
   "metadata": {},
   "source": [
    "- Para um $p = 0.5$, a influência do nó inicial na distribuição do número de visitas é maior quanto maior for o número de nós\n",
    "- Em geral, quanto maior o $p$, mais pra \"direita\" fica a distribuição\n",
    "- "
   ]
  },
  {
   "cell_type": "code",
   "execution_count": 116,
   "metadata": {},
   "outputs": [],
   "source": [
    "nodes = 10\n",
    "p = 0.5\n",
    "x_0 = 3\n",
    "X = np.zeros(nodes)\n",
    "epochs = 100\n",
    "X[x_0] = 1"
   ]
  },
  {
   "cell_type": "code",
   "execution_count": 156,
   "metadata": {},
   "outputs": [
    {
     "data": {
      "text/plain": [
       "array([[0. , 1. , 0. , 0. , 0. , 0. , 0. , 0. , 0. , 0. ],\n",
       "       [0.5, 0. , 0.5, 0. , 0. , 0. , 0. , 0. , 0. , 0. ],\n",
       "       [0. , 0.5, 0. , 0.5, 0. , 0. , 0. , 0. , 0. , 0. ],\n",
       "       [0. , 0. , 0.5, 0. , 0.5, 0. , 0. , 0. , 0. , 0. ],\n",
       "       [0. , 0. , 0. , 0.5, 0. , 0.5, 0. , 0. , 0. , 0. ],\n",
       "       [0. , 0. , 0. , 0. , 0.5, 0. , 0.5, 0. , 0. , 0. ],\n",
       "       [0. , 0. , 0. , 0. , 0. , 0.5, 0. , 0.5, 0. , 0. ],\n",
       "       [0. , 0. , 0. , 0. , 0. , 0. , 0.5, 0. , 0.5, 0. ],\n",
       "       [0. , 0. , 0. , 0. , 0. , 0. , 0. , 0.5, 0. , 0.5],\n",
       "       [0. , 0. , 0. , 0. , 0. , 0. , 0. , 0. , 1. , 0. ]])"
      ]
     },
     "execution_count": 156,
     "metadata": {},
     "output_type": "execute_result"
    }
   ],
   "source": [
    "P = np.zeros([nodes, nodes])\n",
    "for i in np.arange(nodes-1):   \n",
    "    \n",
    "    P[i+1][i] = p\n",
    "    P[i][i+1] = 1-p\n",
    "    \n",
    "P[0][1] = 1\n",
    "P[nodes-1][nodes-2] = 1\n",
    "P"
   ]
  },
  {
   "cell_type": "code",
   "execution_count": 157,
   "metadata": {},
   "outputs": [
    {
     "data": {
      "text/plain": [
       "array([0.22263752, 0.22263752, 0.22254036, 0.2224432 , 0.22229434,\n",
       "       0.22214548, 0.22201458, 0.22188367, 0.22183197, 0.22178028])"
      ]
     },
     "execution_count": 157,
     "metadata": {},
     "output_type": "execute_result"
    }
   ],
   "source": [
    "np.linalg.matrix_power(P, epochs+1)@X + np.linalg.matrix_power(P, epochs)@X"
   ]
  }
 ],
 "metadata": {
  "kernelspec": {
   "display_name": "Python 3",
   "language": "python",
   "name": "python3"
  },
  "language_info": {
   "codemirror_mode": {
    "name": "ipython",
    "version": 3
   },
   "file_extension": ".py",
   "mimetype": "text/x-python",
   "name": "python",
   "nbconvert_exporter": "python",
   "pygments_lexer": "ipython3",
   "version": "3.6.4"
  }
 },
 "nbformat": 4,
 "nbformat_minor": 2
}
