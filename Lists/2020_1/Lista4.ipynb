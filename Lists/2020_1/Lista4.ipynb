{
 "cells": [
  {
   "cell_type": "code",
   "execution_count": 1,
   "metadata": {},
   "outputs": [],
   "source": [
    "import numpy as np"
   ]
  },
  {
   "cell_type": "markdown",
   "metadata": {},
   "source": [
    "## 1. Filas e Caixas\n",
    "\n",
    "### 1.1 Construa uma cadeia de Markov para representar este sistema.\n",
    "\n",
    "Este problema pode ser modelado como uma cadeia de Markov onde os estados são o número de pessoas no caixa (incluindo a que está sendo atendida). Desta forma, a cadeia pode ter um número infinito de estados.\n",
    "\n",
    "Suponha que o estado $\\textit{i}$ representa o estado onde há $\\textit{i}$ pessoas no caixa. Desta forma, a cadeia pode ser construída como: \n",
    "\n",
    "    "
   ]
  }
 ],
 "metadata": {
  "kernelspec": {
   "display_name": "Python 3",
   "language": "python",
   "name": "python3"
  },
  "language_info": {
   "codemirror_mode": {
    "name": "ipython",
    "version": 3
   },
   "file_extension": ".py",
   "mimetype": "text/x-python",
   "name": "python",
   "nbconvert_exporter": "python",
   "pygments_lexer": "ipython3",
   "version": "3.7.3"
  }
 },
 "nbformat": 4,
 "nbformat_minor": 2
}
