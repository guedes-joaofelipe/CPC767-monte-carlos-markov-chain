{
 "cells": [
  {
   "cell_type": "code",
   "execution_count": 71,
   "metadata": {},
   "outputs": [],
   "source": [
    "import numpy as np\n",
    "import matplotlib.pyplot as plt \n",
    "plt.rcParams['font.size'] = 14"
   ]
  },
  {
   "cell_type": "markdown",
   "metadata": {},
   "source": [
    "## 3\n",
    "### 3.3.1 Grafo em Anel    "
   ]
  },
  {
   "cell_type": "code",
   "execution_count": 80,
   "metadata": {},
   "outputs": [
    {
     "data": {
      "text/plain": [
       "array([[0.5 , 0.25, 0.  , ..., 0.  , 0.  , 0.25],\n",
       "       [0.25, 0.5 , 0.25, ..., 0.  , 0.  , 0.  ],\n",
       "       [0.  , 0.25, 0.5 , ..., 0.  , 0.  , 0.  ],\n",
       "       ...,\n",
       "       [0.  , 0.  , 0.  , ..., 0.5 , 0.25, 0.  ],\n",
       "       [0.  , 0.  , 0.  , ..., 0.25, 0.5 , 0.25],\n",
       "       [0.25, 0.  , 0.  , ..., 0.  , 0.25, 0.5 ]])"
      ]
     },
     "execution_count": 80,
     "metadata": {},
     "output_type": "execute_result"
    }
   ],
   "source": [
    "N = 100\n",
    "filename='./temp/lista4_3_2_1.png'\n",
    "P = np.zeros([N, N])\n",
    "for i in np.arange(N):\n",
    "    for j in np.arange(N):\n",
    "        if i == j:\n",
    "            P[i][j] = 1/2\n",
    "            continue\n",
    "        elif i == j+1 or i == j-1:\n",
    "            P[i][j] = 1/4\n",
    "        elif i == N-1 and j == 0:\n",
    "            P[i][j] = 1/4\n",
    "        elif j == N-1 and i == 0:\n",
    "            P[i][j] = 1/4\n",
    "P"
   ]
  },
  {
   "cell_type": "markdown",
   "metadata": {},
   "source": [
    "### Grafo em Árvore Binária"
   ]
  },
  {
   "cell_type": "code",
   "execution_count": 352,
   "metadata": {},
   "outputs": [
    {
     "name": "stdout",
     "output_type": "stream",
     "text": [
      "True\n",
      "2-(3)-4|4|5\n",
      "[<__main__.Node object at 0x000001DEABA491D0>, <__main__.Node object at 0x000001DEABA49198>, <__main__.Node object at 0x000001DEABA49048>, <__main__.Node object at 0x000001DEABA49C50>]\n"
     ]
    }
   ],
   "source": [
    "class Node:\n",
    "    \n",
    "    def __init__(self, idx=None):\n",
    "        self.idx = idx\n",
    "        self.reset_children()\n",
    "        self.reset_parent()\n",
    "        \n",
    "    def reset_children(self):\n",
    "        self.children = []\n",
    "        \n",
    "    def reset_parent(self):\n",
    "        self.parent = None\n",
    "        \n",
    "    def set_parent(self, parent):\n",
    "        self.parent = parent\n",
    "        \n",
    "    def set_children(self, children):\n",
    "        self.children = children\n",
    "        \n",
    "    def set_child(self, child):\n",
    "        self.children.append(child)\n",
    "        \n",
    "    def get_n_parents(self):\n",
    "        return 0 if self.parent == None else 1\n",
    "        \n",
    "    def get_n_children(self):\n",
    "        return len(self.children)\n",
    "        \n",
    "    def has_parent(self, parent):\n",
    "        return parent in self.parents\n",
    "    \n",
    "    def has_child(self, child):\n",
    "        return child in self.children\n",
    "    \n",
    "    def get_neighbors(self):\n",
    "        neighbors = []\n",
    "        for child in self.children:\n",
    "            neighbors.append(child)\n",
    "            \n",
    "        if self.parent is not None:\n",
    "            neighbors.append(self.parent)\n",
    "        \n",
    "        return neighbors\n",
    "        \n",
    "    def __str__(self):\n",
    "        text = ''\n",
    "        if self.parent is not None:\n",
    "            text += '{}-'.format(str(self.parent.idx))\n",
    "        text += '(' + str(self.idx) + ')'\n",
    "        \n",
    "        if len(self.children) > 0:            \n",
    "            text += '-' + '|'.join([str(child.idx) for child in self.children])\n",
    "                \n",
    "        return text\n",
    "    \n",
    "node = Node(3)\n",
    "node.set_parent(Node(2))\n",
    "node.set_children([Node(4), Node(4)])\n",
    "node.set_child(Node(5))\n",
    "print (node.has_child(node.children[0]))\n",
    "print (node)\n",
    "print (node.get_neighbors())"
   ]
  },
  {
   "cell_type": "code",
   "execution_count": 354,
   "metadata": {},
   "outputs": [
    {
     "name": "stdout",
     "output_type": "stream",
     "text": [
      " [(0)-1|2]\n",
      " [0-(1)-3|4   0-(2)-5|6]\n",
      " [1-(3)-7|8   1-(4)-9|10   2-(5)-11|12   2-(6)-13|14]\n",
      " [3-(7)-15|16   3-(8)-17|18   4-(9)-19|20   4-(10)-21|22   5-(11)-23|24   5-(12)-25|26   6-(13)-27|28   6-(14)-29|30]\n",
      " [7-(15)-31|32   7-(16)-33|34   8-(17)-35|36   8-(18)-37|38   9-(19)-39|40   9-(20)-41|42   10-(21)-43|44   10-(22)-45|46   11-(23)-47|48   11-(24)-49|50   12-(25)-51|52   12-(26)-53|54   13-(27)-55|56   13-(28)-57|58   14-(29)-59|60   14-(30)-61|62]\n",
      "level 0 [(0)-1|2]\n",
      "level 1 [0-(1)-3|4  0-(2)-5|6]\n",
      "level 2 [1-(3)-7|8  1-(4)-9|10  2-(5)-11|12  2-(6)-13|14]\n",
      "level 3 [3-(7)-15|16  3-(8)-17|18  4-(9)-19|20  4-(10)-21|22  5-(11)-23|24  5-(12)-25|26  6-(13)-27|28  6-(14)-29|30]\n",
      "level 4 [7-(15)-31|32  7-(16)-33|34  8-(17)-35|36  8-(18)-37|38  9-(19)-39|40  9-(20)-41|42  10-(21)-43|44  10-(22)-45|46  11-(23)-47|48  11-(24)-49|50  12-(25)-51|52  12-(26)-53|54  13-(27)-55|56  13-(28)-57|58  14-(29)-59|60  14-(30)-61|62]\n",
      "level 5 [15-(31)  15-(32)  16-(33)  16-(34)  17-(35)  17-(36)  18-(37)  18-(38)  19-(39)  19-(40)  20-(41)  20-(42)  21-(43)  21-(44)  22-(45)  22-(46)  23-(47)  23-(48)  24-(49)  24-(50)  25-(51)  25-(52)  26-(53)  26-(54)  27-(55)  27-(56)  28-(57)  28-(58)  29-(59)  29-(60)  30-(61)  30-(62)]\n",
      "\n"
     ]
    }
   ],
   "source": [
    "class Tree:\n",
    "    \n",
    "    def __init__(self, n_levels = 3):\n",
    "        self.n_levels = n_levels\n",
    "        self.n_nodes = 0\n",
    "        self.reset_tree()\n",
    "        self.reset_edges()\n",
    "            \n",
    "    def reset_tree(self):\n",
    "        self.levels = []\n",
    "        for l in np.arange(self.n_levels):\n",
    "            level = []\n",
    "            if l == 0:                \n",
    "                level.append(Node(l))\n",
    "                self.n_nodes += 1\n",
    "                    \n",
    "            if l > 0 and l <= self.n_levels-1:\n",
    "                for i in np.arange(2**(l)):\n",
    "                    level.append(Node(self.n_nodes))\n",
    "                    self.n_nodes += 1\n",
    "        \n",
    "            self.levels.append(level)\n",
    "            \n",
    "        self.set_children()\n",
    "        \n",
    "    def set_children(self):\n",
    "        for l, level in enumerate(self.levels):\n",
    "            if l == self.n_levels-1:                \n",
    "                break\n",
    "                \n",
    "            for n, node in enumerate(level):\n",
    "                children = [self.levels[l+1][2*n],\n",
    "                            self.levels[l+1][2*n+1]]\n",
    "                self.levels[l][n].set_children(children)\n",
    "                self.levels[l+1][2*n].set_parent(self.levels[l][n])\n",
    "                self.levels[l+1][2*n+1].set_parent(self.levels[l][n])\n",
    "            \n",
    "            print (' [' + '   '.join([str(node) for node in level]) + ']')\n",
    "        \n",
    "    def reset_edges(self):\n",
    "        self.edges = pd.DataFrame(columns=['source', 'target', 'prob'])\n",
    "        \n",
    "    def set_edge(self, source, target, prob):\n",
    "        self.edges.loc[self.edges.shape[0]] = [source, target, prob]\n",
    "        \n",
    "    def __str__(self):\n",
    "        for l, level in enumerate(self.levels):\n",
    "            text = 'level ' + str(l) + ' [' + '  '.join([str(node) for node in level]) + ']'\n",
    "            print (text)\n",
    "    \n",
    "        return ''\n",
    "        \n",
    "tree = Tree(6)\n",
    "print (tree)"
   ]
  },
  {
   "cell_type": "code",
   "execution_count": 343,
   "metadata": {},
   "outputs": [
    {
     "data": {
      "text/plain": [
       "0"
      ]
     },
     "execution_count": 343,
     "metadata": {},
     "output_type": "execute_result"
    }
   ],
   "source": [
    "tree.levels[5][2].get_n_children()"
   ]
  },
  {
   "cell_type": "code",
   "execution_count": 353,
   "metadata": {},
   "outputs": [
    {
     "ename": "AttributeError",
     "evalue": "'Node' object has no attribute 'get_neighbors'",
     "output_type": "error",
     "traceback": [
      "\u001b[1;31m---------------------------------------------------------------------------\u001b[0m",
      "\u001b[1;31mAttributeError\u001b[0m                            Traceback (most recent call last)",
      "\u001b[1;32m<ipython-input-353-689df13567e2>\u001b[0m in \u001b[0;36m<module>\u001b[1;34m\u001b[0m\n\u001b[0;32m      7\u001b[0m         \u001b[0mcomplement_prob\u001b[0m \u001b[1;33m=\u001b[0m \u001b[1;33m(\u001b[0m\u001b[1;36m1\u001b[0m\u001b[1;33m/\u001b[0m\u001b[1;36m2\u001b[0m\u001b[1;33m)\u001b[0m\u001b[1;33m/\u001b[0m\u001b[0mn_neighbors\u001b[0m\u001b[1;33m\u001b[0m\u001b[1;33m\u001b[0m\u001b[0m\n\u001b[0;32m      8\u001b[0m \u001b[1;33m\u001b[0m\u001b[0m\n\u001b[1;32m----> 9\u001b[1;33m         \u001b[1;32mfor\u001b[0m \u001b[0mneighbor\u001b[0m \u001b[1;32min\u001b[0m \u001b[0mnode\u001b[0m\u001b[1;33m.\u001b[0m\u001b[0mget_neighbors\u001b[0m\u001b[1;33m(\u001b[0m\u001b[1;33m)\u001b[0m\u001b[1;33m:\u001b[0m\u001b[1;33m\u001b[0m\u001b[1;33m\u001b[0m\u001b[0m\n\u001b[0m\u001b[0;32m     10\u001b[0m             \u001b[0mP\u001b[0m\u001b[1;33m[\u001b[0m\u001b[0mnode\u001b[0m\u001b[1;33m.\u001b[0m\u001b[0midx\u001b[0m\u001b[1;33m]\u001b[0m\u001b[1;33m[\u001b[0m\u001b[0mneighbor\u001b[0m\u001b[1;33m.\u001b[0m\u001b[0midx\u001b[0m\u001b[1;33m]\u001b[0m \u001b[1;33m=\u001b[0m \u001b[0mcomplement_prob\u001b[0m\u001b[1;33m\u001b[0m\u001b[1;33m\u001b[0m\u001b[0m\n\u001b[0;32m     11\u001b[0m \u001b[1;33m\u001b[0m\u001b[0m\n",
      "\u001b[1;31mAttributeError\u001b[0m: 'Node' object has no attribute 'get_neighbors'"
     ]
    }
   ],
   "source": [
    "P = np.zeros([tree.n_nodes, tree.n_nodes])\n",
    "\n",
    "for l, level in enumerate(tree.levels):\n",
    "    for n, node in enumerate(level):\n",
    "        P[node.idx][node.idx] = 1/2\n",
    "        n_neighbors = node.get_n_parents() + node.get_n_children()\n",
    "        complement_prob = (1/2)/n_neighbors\n",
    "        \n",
    "        for neighbor in node.get_neighbors():\n",
    "            P[node.idx][neighbor.idx] = complement_prob\n",
    "           \n",
    "P"
   ]
  },
  {
   "cell_type": "markdown",
   "metadata": {},
   "source": [
    "### 3.3.3 Grafo em Reticulado"
   ]
  },
  {
   "cell_type": "code",
   "execution_count": 262,
   "metadata": {},
   "outputs": [
    {
     "data": {
      "text/plain": [
       "array([[0.5  , 0.125, 0.   , ..., 0.   , 0.   , 0.   ],\n",
       "       [0.125, 0.5  , 0.125, ..., 0.   , 0.   , 0.   ],\n",
       "       [0.   , 0.125, 0.5  , ..., 0.   , 0.   , 0.   ],\n",
       "       ...,\n",
       "       [0.   , 0.   , 0.   , ..., 0.5  , 0.125, 0.   ],\n",
       "       [0.   , 0.   , 0.   , ..., 0.125, 0.5  , 0.125],\n",
       "       [0.   , 0.   , 0.   , ..., 0.   , 0.125, 0.5  ]])"
      ]
     },
     "execution_count": 262,
     "metadata": {},
     "output_type": "execute_result"
    }
   ],
   "source": [
    "N = 100\n",
    "filename='./temp/lista4_3_2_3.png'\n",
    "\n",
    "class Point:\n",
    "    def __init__(self, idx, x, y):\n",
    "        self.idx = idx\n",
    "        self.x = x\n",
    "        self.y = y\n",
    "        \n",
    "    def __str__(self):\n",
    "        return '{} ({}, {})'.format(self.idx, self.x, self.y)\n",
    "    \n",
    "    def equals(self, point):\n",
    "        if point.x == self.x and point.y == self.y:\n",
    "            return True\n",
    "        return False\n",
    "    \n",
    "print (Point(0, 1,2).equals(Point(1, 1,2)))\n",
    "\n",
    "class Grid:\n",
    "    \n",
    "    def __init__(self, N):\n",
    "        \n",
    "        self.N = N\n",
    "        self.grid = np.array([[Point(0, x, y) for y in np.arange(N)] for x in np.arange(N)])\n",
    "        count = 0\n",
    "        for row in self.grid:\n",
    "            for point in row:\n",
    "                point.idx = count\n",
    "                count += 1\n",
    "        self.clean_edges()\n",
    "        \n",
    "    def __str__(self):\n",
    "        for row in self.grid:\n",
    "            line = ' '.join([str(point) for point in row])\n",
    "            print (line)\n",
    "        \n",
    "        return ''\n",
    "    \n",
    "    def clean_edges(self):\n",
    "        self.edges = pd.DataFrame(columns=['source', 'target', 'prob'])\n",
    "    \n",
    "    def set_edge(self, source, target, prob):\n",
    "        self.edges.loc[self.edges.shape[0]] = [source, target, prob]\n",
    "        \n",
    "    def get_index(self, x, y):\n",
    "        return self.grid[x][y].idx\n",
    "        \n",
    "    def get_P(self):\n",
    "        P = np.zeros([self.N**2, self.N**2])\n",
    "        for _, edge in self.edges.iterrows():\n",
    "            P[int(edge['source'])][int(edge['target'])] = edge['prob']\n",
    "            \n",
    "        return P\n",
    "    \n",
    "    def get_above(self, x, y):\n",
    "        if y == self.N-1:\n",
    "            return self.grid[x][0]\n",
    "        \n",
    "        return self.grid[x][y+1]\n",
    "    \n",
    "    def get_below(self, x, y):\n",
    "        if y == 0:\n",
    "            return self.grid[x][self.N-1]\n",
    "        \n",
    "        return self.grid[x][y-1]\n",
    "    \n",
    "    def get_right(self, x, y):\n",
    "        if x == self.N-1:\n",
    "            return self.grid[0][y]\n",
    "        \n",
    "        return self.grid[x+1][y]\n",
    "    \n",
    "    def get_left(self, x, y):\n",
    "        if x == 0:\n",
    "            return self.grid[self.N-1][y]\n",
    "        \n",
    "        return self.grid[x-1][y]\n",
    "        \n",
    "g = Grid(10)\n",
    "\n",
    "g.clean_edges()\n",
    "for row in g.grid:\n",
    "    for j in row:\n",
    "        for column in g.grid:\n",
    "            for i in column:\n",
    "                if i.equals(j):\n",
    "                    g.set_edge(i.idx, j.idx, 1/2)\n",
    "                    \n",
    "                if j.equals(g.get_left(i.x, i.y)) or j.equals(g.get_right(i.x, i.y)):\n",
    "                    g.set_edge(i.idx, j.idx, 1/8)\n",
    "                    \n",
    "                if j.equals(g.get_above(i.x, i.y)) or j.equals(g.get_below(i.x, i.y)):\n",
    "                    g.set_edge(i.idx, j.idx, 1/8)\n",
    "                    \n",
    "P = g.get_P()\n",
    "P"
   ]
  },
  {
   "cell_type": "markdown",
   "metadata": {},
   "source": [
    "Calculating eigenvector associated with $\\pi$"
   ]
  },
  {
   "cell_type": "code",
   "execution_count": 263,
   "metadata": {},
   "outputs": [],
   "source": [
    "eigenvals, eigenvecs = np.linalg.eig(P)\n",
    "Q_inv = np.linalg.inv(eigenvecs)\n",
    "pi = np.real(Q_inv[0]/np.sum(Q_inv[0]))"
   ]
  },
  {
   "cell_type": "code",
   "execution_count": 264,
   "metadata": {},
   "outputs": [
    {
     "data": {
      "text/plain": [
       "array([0.01, 0.01, 0.01, 0.01, 0.01, 0.01, 0.01, 0.01, 0.01, 0.01, 0.01,\n",
       "       0.01, 0.01, 0.01, 0.01, 0.01, 0.01, 0.01, 0.01, 0.01, 0.01, 0.01,\n",
       "       0.01, 0.01, 0.01, 0.01, 0.01, 0.01, 0.01, 0.01, 0.01, 0.01, 0.01,\n",
       "       0.01, 0.01, 0.01, 0.01, 0.01, 0.01, 0.01, 0.01, 0.01, 0.01, 0.01,\n",
       "       0.01, 0.01, 0.01, 0.01, 0.01, 0.01, 0.01, 0.01, 0.01, 0.01, 0.01,\n",
       "       0.01, 0.01, 0.01, 0.01, 0.01, 0.01, 0.01, 0.01, 0.01, 0.01, 0.01,\n",
       "       0.01, 0.01, 0.01, 0.01, 0.01, 0.01, 0.01, 0.01, 0.01, 0.01, 0.01,\n",
       "       0.01, 0.01, 0.01, 0.01, 0.01, 0.01, 0.01, 0.01, 0.01, 0.01, 0.01,\n",
       "       0.01, 0.01, 0.01, 0.01, 0.01, 0.01, 0.01, 0.01, 0.01, 0.01, 0.01,\n",
       "       0.01])"
      ]
     },
     "execution_count": 264,
     "metadata": {},
     "output_type": "execute_result"
    }
   ],
   "source": [
    "pi"
   ]
  },
  {
   "cell_type": "code",
   "execution_count": 267,
   "metadata": {},
   "outputs": [],
   "source": [
    "dist_tv = lambda a,b: 0.5*np.sum(np.absolute(a-b))\n",
    "\n",
    "pi_0 = np.zeros(N)\n",
    "pi_0[0] = 1\n",
    "\n",
    "diff = []\n",
    "\n",
    "powers = [10**i for i in range(4)]\n",
    "for power in powers:\n",
    "    pi_t = pi_0@np.linalg.matrix_power(P, power)\n",
    "    diff.append(dist_tv(pi_t, pi))"
   ]
  },
  {
   "cell_type": "code",
   "execution_count": 268,
   "metadata": {},
   "outputs": [
    {
     "data": {
      "image/png": "[encoded data removed]",
      "text/plain": [
       "<Figure size 864x432 with 1 Axes>"
      ]
     },
     "metadata": {
      "needs_background": "light"
     },
     "output_type": "display_data"
    }
   ],
   "source": [
    "fig, ax = plt.subplots(figsize=(12,6))\n",
    "ax.plot(powers, diff)\n",
    "ax.scatter(powers, diff)\n",
    "ax.grid(True)\n",
    "ax.set_xscale('log'), ax.set_yscale('log')\n",
    "ax.set_xlabel('Number of iterations'), ax.set_ylabel('$d_{tv}$', rotation=0)\n",
    "\n",
    "fig.savefig(filename, bbox_inches='tight')"
   ]
  }
 ],
 "metadata": {
  "kernelspec": {
   "display_name": "Python 3",
   "language": "python",
   "name": "python3"
  },
  "language_info": {
   "codemirror_mode": {
    "name": "ipython",
    "version": 3
   },
   "file_extension": ".py",
   "mimetype": "text/x-python",
   "name": "python",
   "nbconvert_exporter": "python",
   "pygments_lexer": "ipython3",
   "version": "3.7.3"
  }
 },
 "nbformat": 4,
 "nbformat_minor": 2
}
