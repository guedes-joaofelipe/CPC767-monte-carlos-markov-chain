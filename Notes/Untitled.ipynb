{
 "cells": [
  {
   "cell_type": "code",
   "execution_count": 1,
   "metadata": {},
   "outputs": [],
   "source": [
    "import numpy as np"
   ]
  },
  {
   "cell_type": "code",
   "execution_count": 54,
   "metadata": {},
   "outputs": [
    {
     "data": {
      "text/plain": [
       "array([[0.        , 0.4       , 0.        , 0.6       ],\n",
       "       [0.16666667, 0.        , 0.33333333, 0.5       ],\n",
       "       [0.        , 0.8       , 0.        , 0.2       ],\n",
       "       [0.3       , 0.6       , 0.1       , 0.        ]])"
      ]
     },
     "execution_count": 54,
     "metadata": {},
     "output_type": "execute_result"
    }
   ],
   "source": [
    "A = np.array([[0, 2, 0, 3],\n",
    "              [2, 0, 4, 6],\n",
    "              [0, 4, 0, 1],\n",
    "              [3, 6, 1, 0]])\n",
    "\n",
    "W = np.zeros(A.shape)\n",
    "for i, row in enumerate(A):\n",
    "    W[i][i] = np.sum(row)\n",
    "    \n",
    "P = np.linalg.inv(W)@A\n",
    "P"
   ]
  },
  {
   "cell_type": "code",
   "execution_count": 49,
   "metadata": {},
   "outputs": [
    {
     "name": "stdout",
     "output_type": "stream",
     "text": [
      "[0.  0.4 0.  0.6]\n",
      "[0.16666667 0.         0.33333333 0.5       ]\n",
      "[0.  0.8 0.  0.2]\n",
      "[0.3 0.6 0.1 0. ]\n"
     ]
    },
    {
     "data": {
      "text/plain": [
       "array([[0, 2, 0, 3],\n",
       "       [2, 0, 4, 6],\n",
       "       [0, 4, 0, 1],\n",
       "       [3, 6, 1, 0]])"
      ]
     },
     "execution_count": 49,
     "metadata": {},
     "output_type": "execute_result"
    }
   ],
   "source": [
    "P = A.copy()\n",
    "# print (P)\n",
    "for i, row in enumerate(P):\n",
    "#     print (row)\n",
    "    print (row/np.sum(row))\n",
    "P"
   ]
  },
  {
   "cell_type": "code",
   "execution_count": 58,
   "metadata": {},
   "outputs": [
    {
     "name": "stdout",
     "output_type": "stream",
     "text": [
      "[0 0 1 0]\n"
     ]
    },
    {
     "data": {
      "text/plain": [
       "array([0.    , 0.4096, 0.    , 0.0016])"
      ]
     },
     "execution_count": 58,
     "metadata": {},
     "output_type": "execute_result"
    }
   ],
   "source": [
    "T = 4\n",
    "X = np.array([1/A.shape[0] for _ in range(A.shape[0])])\n",
    "X = np.array([0, 0, 1, 0])\n",
    "print (X)\n",
    "X@np.power(P, T)\n"
   ]
  }
 ],
 "metadata": {
  "kernelspec": {
   "display_name": "Python 3",
   "language": "python",
   "name": "python3"
  },
  "language_info": {
   "codemirror_mode": {
    "name": "ipython",
    "version": 3
   },
   "file_extension": ".py",
   "mimetype": "text/x-python",
   "name": "python",
   "nbconvert_exporter": "python",
   "pygments_lexer": "ipython3",
   "version": "3.6.4"
  }
 },
 "nbformat": 4,
 "nbformat_minor": 2
}
